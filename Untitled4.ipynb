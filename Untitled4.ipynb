{
 "cells": [
  {
   "cell_type": "code",
   "execution_count": 1,
   "id": "5c195504-5ac1-4e54-a5ca-fe5b7d9f6cca",
   "metadata": {},
   "outputs": [
    {
     "data": {
      "text/plain": [
       "2.23606797749979"
      ]
     },
     "execution_count": 1,
     "metadata": {},
     "output_type": "execute_result"
    }
   ],
   "source": [
    "def euclideanDistance(tuple1,tuple2):\n",
    "      x1,y1=tuple1\n",
    "      x2,y2=tuple2\n",
    "      return (((x2-x1)**2)+((y2-y1)**2))**0.5\n",
    "    \n",
    "\n",
    "\n",
    "\n",
    "distance={}\n",
    "minns=[]\n",
    "points=[(1,2),(3,4),(7,9),(0,0)]\n",
    "for i in range(len(points)):\n",
    "    for j in range(i):\n",
    "        distance[i,j]= euclideanDistance(points[i],points[j])\n",
    "smallest_one= None        \n",
    "for v in distance.values():\n",
    "    if smallest_one is None or v<smallest_one:\n",
    "        smallest_one=v\n",
    "\n",
    "smallest_one\n",
    "    \n"
   ]
  },
  {
   "cell_type": "code",
   "execution_count": null,
   "id": "c150e548-c398-4e87-9f48-ae56d491e33a",
   "metadata": {},
   "outputs": [],
   "source": []
  }
 ],
 "metadata": {
  "kernelspec": {
   "display_name": "Python 3 (ipykernel)",
   "language": "python",
   "name": "python3"
  },
  "language_info": {
   "codemirror_mode": {
    "name": "ipython",
    "version": 3
   },
   "file_extension": ".py",
   "mimetype": "text/x-python",
   "name": "python",
   "nbconvert_exporter": "python",
   "pygments_lexer": "ipython3",
   "version": "3.12.5"
  }
 },
 "nbformat": 4,
 "nbformat_minor": 5
}
